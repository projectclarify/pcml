{
 "cells": [
  {
   "cell_type": "markdown",
   "id": "22c455e8-5aa0-4471-89e0-bdf09dc0b080",
   "metadata": {},
   "source": [
    "# FEC"
   ]
  },
  {
   "cell_type": "markdown",
   "id": "8489cd64-4119-4ea1-9925-98081d54e06d",
   "metadata": {},
   "source": [
    "## Obtain FEC dataset metadata"
   ]
  },
  {
   "cell_type": "markdown",
   "id": "5d52c496-6a20-46d5-a116-7fe6fc95c43e",
   "metadata": {},
   "source": [
    "### Create tmpdir\n",
    "\n"
   ]
  },
  {
   "cell_type": "code",
   "execution_count": null,
   "id": "be050a5e-d8aa-4c4d-9a3a-b864332f62ec",
   "metadata": {},
   "outputs": [],
   "source": []
  },
  {
   "cell_type": "markdown",
   "id": "007d7d64-e824-4437-b90c-3e9a7e7daf78",
   "metadata": {},
   "source": [
    "### Download data"
   ]
  },
  {
   "cell_type": "code",
   "execution_count": null,
   "id": "c8d8829f-dfe6-444b-95cf-17cc60cf4a47",
   "metadata": {},
   "outputs": [],
   "source": [
    "!cd ~/datasets/fec && https://storage.googleapis.com/public_release/FEC_dataset.zip"
   ]
  },
  {
   "cell_type": "code",
   "execution_count": null,
   "id": "427e7b7a-3d02-48a4-9e2f-94c8e7d5526e",
   "metadata": {},
   "outputs": [],
   "source": []
  },
  {
   "cell_type": "markdown",
   "id": "ea23043c-0134-4267-9da2-47fa7b370159",
   "metadata": {},
   "source": [
    "### Scrape flickr"
   ]
  },
  {
   "cell_type": "code",
   "execution_count": null,
   "id": "aad8d9da-d1e3-4d2d-b25e-33639b9f4154",
   "metadata": {},
   "outputs": [],
   "source": []
  },
  {
   "cell_type": "code",
   "execution_count": null,
   "id": "43df08a5-429e-4938-bc6a-091165e9cfab",
   "metadata": {},
   "outputs": [],
   "source": []
  },
  {
   "cell_type": "code",
   "execution_count": null,
   "id": "6a8088fc-ea6b-4d66-9d3b-d983def9098c",
   "metadata": {},
   "outputs": [],
   "source": [
    "### "
   ]
  }
 ],
 "metadata": {
  "environment": {
   "kernel": "python3",
   "name": "tf2-gpu.2-11.m111",
   "type": "gcloud",
   "uri": "gcr.io/deeplearning-platform-release/tf2-gpu.2-11:m111"
  },
  "kernelspec": {
   "display_name": "Python 3",
   "language": "python",
   "name": "python3"
  },
  "language_info": {
   "codemirror_mode": {
    "name": "ipython",
    "version": 3
   },
   "file_extension": ".py",
   "mimetype": "text/x-python",
   "name": "python",
   "nbconvert_exporter": "python",
   "pygments_lexer": "ipython3",
   "version": "3.7.12"
  }
 },
 "nbformat": 4,
 "nbformat_minor": 5
}
