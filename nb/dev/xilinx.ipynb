{
 "cells": [
  {
   "cell_type": "code",
   "execution_count": null,
   "id": "28f26a30-e0e2-4579-86a6-cb7fd0ec4e18",
   "metadata": {},
   "outputs": [],
   "source": []
  },
  {
   "cell_type": "code",
   "execution_count": null,
   "id": "a537fd3b-2503-423b-bba4-cd92578b99bf",
   "metadata": {},
   "outputs": [],
   "source": [
    "# Tutorial files:\n",
    "# https://github.com/Xilinx/Vitis-AI-Tutorials.git"
   ]
  },
  {
   "cell_type": "code",
   "execution_count": null,
   "id": "2f2d8df8-a8e8-47e0-bedd-30da033950b2",
   "metadata": {},
   "outputs": [],
   "source": []
  }
 ],
 "metadata": {
  "environment": {
   "name": "common-cpu.m81",
   "type": "gcloud",
   "uri": "gcr.io/deeplearning-platform-release/base-cpu:m81"
  },
  "kernelspec": {
   "display_name": "Python 3",
   "language": "python",
   "name": "python3"
  },
  "language_info": {
   "codemirror_mode": {
    "name": "ipython",
    "version": 3
   },
   "file_extension": ".py",
   "mimetype": "text/x-python",
   "name": "python",
   "nbconvert_exporter": "python",
   "pygments_lexer": "ipython3",
   "version": "3.7.10"
  }
 },
 "nbformat": 4,
 "nbformat_minor": 5
}
